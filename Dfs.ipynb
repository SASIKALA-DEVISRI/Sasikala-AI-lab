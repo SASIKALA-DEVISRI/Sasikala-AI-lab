{
 "cells": [
  {
   "cell_type": "code",
   "execution_count": 1,
   "id": "529e5fc1-eebb-4da0-aae6-f4010a223c15",
   "metadata": {},
   "outputs": [
    {
     "name": "stdout",
     "output_type": "stream",
     "text": [
      "Following is Depth-First Traversal (starting from vertex 2):\n",
      "2 0 1 3 "
     ]
    }
   ],
   "source": [
    "from collections import defaultdict\n",
    "\n",
    "# This class represents a directed graph using adjacency list representation\n",
    "class Graph:\n",
    "    def __init__(self):\n",
    "        self.graph = defaultdict(list)  # Dictionary to store the graph\n",
    "\n",
    "    # Function to add an edge to the graph\n",
    "    def addEdge(self, u, v):\n",
    "        self.graph[u].append(v)\n",
    "\n",
    "    # A recursive function for DFS traversal\n",
    "    def DFSUtil(self, v, visited):\n",
    "        visited.add(v)\n",
    "        print(v, end=\" \")  # Print the current node\n",
    "\n",
    "        # Recur for all adjacent vertices\n",
    "        for neighbor in self.graph[v]:\n",
    "            if neighbor not in visited:\n",
    "                self.DFSUtil(neighbor, visited)\n",
    "\n",
    "    # The function to do DFS traversal\n",
    "    def DFS(self, start_node):\n",
    "        visited = set()  # Set to keep track of visited nodes\n",
    "        self.DFSUtil(start_node, visited)\n",
    "\n",
    "# Driver code\n",
    "if __name__ == \"__main__\":\n",
    "    g = Graph()\n",
    "    \n",
    "    g.addEdge(0, 1)\n",
    "    g.addEdge(0, 2)\n",
    "    g.addEdge(1, 2)\n",
    "    g.addEdge(2, 0)\n",
    "    g.addEdge(2, 3)\n",
    "    g.addEdge(3, 3)\n",
    "\n",
    "    print(\"Following is Depth-First Traversal (starting from vertex 2):\")\n",
    "    g.DFS(2)\n"
   ]
  },
  {
   "cell_type": "code",
   "execution_count": null,
   "id": "b9548dc9-16bf-4c72-b620-6ead81131bf3",
   "metadata": {},
   "outputs": [],
   "source": []
  }
 ],
 "metadata": {
  "kernelspec": {
   "display_name": "Python [conda env:base] *",
   "language": "python",
   "name": "conda-base-py"
  },
  "language_info": {
   "codemirror_mode": {
    "name": "ipython",
    "version": 3
   },
   "file_extension": ".py",
   "mimetype": "text/x-python",
   "name": "python",
   "nbconvert_exporter": "python",
   "pygments_lexer": "ipython3",
   "version": "3.12.7"
  }
 },
 "nbformat": 4,
 "nbformat_minor": 5
}
