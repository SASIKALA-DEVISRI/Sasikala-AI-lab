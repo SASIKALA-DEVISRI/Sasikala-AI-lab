{
 "cells": [
  {
   "cell_type": "code",
   "execution_count": 2,
   "id": "e6bf12f9-832b-4d4c-a9f6-f4fb2000d269",
   "metadata": {},
   "outputs": [
    {
     "name": "stdout",
     "output_type": "stream",
     "text": [
      "Following is Breadth-First Traversal (starting from vertex 2):\n",
      "2 0 3 1 "
     ]
    }
   ],
   "source": [
    "from collections import defaultdict\n",
    "\n",
    "# This class represents a directed graph using adjacency list representation\n",
    "class Graph:\n",
    "    def __init__(self):\n",
    "        self.graph = defaultdict(list)  # Dictionary to store the graph\n",
    "\n",
    "    # Function to add an edge to the graph\n",
    "    def addEdge(self, u, v):\n",
    "        self.graph[u].append(v)\n",
    "\n",
    "    # Function to perform BFS traversal\n",
    "    def BFS(self, start_node):\n",
    "        visited = set()  # Set to keep track of visited nodes\n",
    "        queue = [start_node]  # Initialize queue\n",
    "\n",
    "        while queue:\n",
    "            node = queue.pop(0)  # Dequeue a vertex\n",
    "            if node not in visited:\n",
    "                print(node, end=\" \")  # Print visited node\n",
    "                visited.add(node)  # Mark node as visited\n",
    "                \n",
    "                # Enqueue all unvisited adjacent nodes\n",
    "                for neighbor in self.graph[node]:\n",
    "                    if neighbor not in visited:\n",
    "                        queue.append(neighbor)\n",
    "\n",
    "# Driver code\n",
    "g = Graph()\n",
    "g.addEdge(0, 1)\n",
    "g.addEdge(0, 2)\n",
    "g.addEdge(1, 2)\n",
    "g.addEdge(2, 0)\n",
    "g.addEdge(2, 3)\n",
    "g.addEdge(3, 3)\n",
    "\n",
    "print(\"Following is Breadth-First Traversal (starting from vertex 2):\")\n",
    "g.BFS(2)\n"
   ]
  },
  {
   "cell_type": "code",
   "execution_count": null,
   "id": "6d767d76-9fbf-4e09-9c6b-3eec11fc6980",
   "metadata": {},
   "outputs": [],
   "source": []
  }
 ],
 "metadata": {
  "kernelspec": {
   "display_name": "Python [conda env:base] *",
   "language": "python",
   "name": "conda-base-py"
  },
  "language_info": {
   "codemirror_mode": {
    "name": "ipython",
    "version": 3
   },
   "file_extension": ".py",
   "mimetype": "text/x-python",
   "name": "python",
   "nbconvert_exporter": "python",
   "pygments_lexer": "ipython3",
   "version": "3.12.7"
  }
 },
 "nbformat": 4,
 "nbformat_minor": 5
}
