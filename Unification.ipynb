{
 "cells": [
  {
   "cell_type": "code",
   "execution_count": 2,
   "id": "2c2c908a-7006-4511-8952-72c0c060e0f9",
   "metadata": {},
   "outputs": [
    {
     "name": "stdout",
     "output_type": "stream",
     "text": [
      "Unification successful. Substitution:\n",
      "a = X\n",
      "b = Y\n"
     ]
    }
   ],
   "source": [
    "class Unifier:\n",
    "    def __init__(self):\n",
    "        self.substitution = {}\n",
    "\n",
    "    def unify(self, term1, term2):\n",
    "        self.substitution = {}\n",
    "        if self.unify_terms(term1, term2):\n",
    "            print(\"Unification successful. Substitution:\")\n",
    "            self.display_substitution()\n",
    "        else:\n",
    "            print(\"Unification failed.\")\n",
    "\n",
    "    def unify_terms(self, term1, term2):\n",
    "        if term1 == term2:\n",
    "            return True\n",
    "        elif self.is_variable(term1):\n",
    "            return self.unify_variable(term1, term2)\n",
    "        elif self.is_variable(term2):\n",
    "            return self.unify_variable(term2, term1)\n",
    "        elif isinstance(term1, list) and isinstance(term2, list):\n",
    "            return self.unify_lists(term1, term2)\n",
    "        elif isinstance(term1, tuple) and isinstance(term2, tuple):\n",
    "            return self.unify_tuples(term1, term2)\n",
    "        else:\n",
    "            return False\n",
    "\n",
    "    def unify_variable(self, variable, term):\n",
    "        if variable in self.substitution:\n",
    "            return self.unify_terms(self.substitution[variable], term)\n",
    "        elif term in self.substitution:\n",
    "            return self.unify_terms(variable, self.substitution[term])\n",
    "        else:\n",
    "            self.substitution[variable] = term\n",
    "            return True\n",
    "\n",
    "    def unify_lists(self, list1, list2):\n",
    "        if len(list1) != len(list2):\n",
    "            return False\n",
    "        for t1, t2 in zip(list1, list2):\n",
    "            if not self.unify_terms(t1, t2):\n",
    "                return False\n",
    "        return True\n",
    "\n",
    "    def unify_tuples(self, tuple1, tuple2):\n",
    "        if len(tuple1) != len(tuple2):\n",
    "            return False\n",
    "        for t1, t2 in zip(tuple1, tuple2):\n",
    "            if not self.unify_terms(t1, t2):\n",
    "                return False\n",
    "        return True\n",
    "\n",
    "    def is_variable(self, term):\n",
    "        return isinstance(term, str) and term.islower()\n",
    "\n",
    "    def display_substitution(self):\n",
    "        for variable, value in self.substitution.items():\n",
    "            print(f\"{variable} = {value}\")\n",
    "\n",
    "if __name__ == \"__main__\":\n",
    "    unifier = Unifier()\n",
    "    term1 = ['f', 'X', 'Y']\n",
    "    term2 = ['f', 'a', 'b']\n",
    "    unifier.unify(term1, term2)\n"
   ]
  },
  {
   "cell_type": "code",
   "execution_count": null,
   "id": "3044ddb6-f18c-4afa-b6b6-32639db45bef",
   "metadata": {},
   "outputs": [],
   "source": []
  }
 ],
 "metadata": {
  "kernelspec": {
   "display_name": "Python [conda env:base] *",
   "language": "python",
   "name": "conda-base-py"
  },
  "language_info": {
   "codemirror_mode": {
    "name": "ipython",
    "version": 3
   },
   "file_extension": ".py",
   "mimetype": "text/x-python",
   "name": "python",
   "nbconvert_exporter": "python",
   "pygments_lexer": "ipython3",
   "version": "3.12.7"
  }
 },
 "nbformat": 4,
 "nbformat_minor": 5
}
