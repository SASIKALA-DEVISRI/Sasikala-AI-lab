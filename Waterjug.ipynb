{
 "cells": [
  {
   "cell_type": "code",
   "execution_count": 2,
   "id": "df888a01-c3bc-4540-ab42-d512e4881f48",
   "metadata": {},
   "outputs": [
    {
     "name": "stdout",
     "output_type": "stream",
     "text": [
      "Path from initial state to solution state:\n",
      "(0, 0)\n",
      "(0, 3)\n",
      "(4, 0)\n",
      "(4, 3)\n",
      "(1, 2)\n",
      "(0, 2)\n"
     ]
    }
   ],
   "source": [
    "from collections import deque\n",
    "\n",
    "def Solution(a, b, target):\n",
    "    m = {}\n",
    "    isSolvable = False\n",
    "    path = []\n",
    "\n",
    "    q = deque()\n",
    "\n",
    "    # Initializing with both jugs being empty\n",
    "    q.append((0, 0))\n",
    "\n",
    "    while q:\n",
    "        # Current state\n",
    "        u = q.popleft()\n",
    "\n",
    "        if u in m:  # Check if already visited\n",
    "            continue\n",
    "        if u[0] > a or u[1] > b or u[0] < 0 or u[1] < 0:  # Invalid state\n",
    "            continue\n",
    "\n",
    "        # Store path\n",
    "        path.append([u[0], u[1]])\n",
    "        m[u] = 1\n",
    "\n",
    "        # Check if target is reached\n",
    "        if u[0] == target or u[1] == target:\n",
    "            isSolvable = True\n",
    "\n",
    "            if u[0] == target and u[1] != 0:\n",
    "                path.append([u[0], 0])\n",
    "            elif u[1] == target and u[0] != 0:\n",
    "                path.append([0, u[1]])\n",
    "\n",
    "            # Print path to solution\n",
    "            for step in path:\n",
    "                print(f\"({step[0]}, {step[1]})\")\n",
    "            return  # Exit once solution is found\n",
    "\n",
    "        # Possible moves\n",
    "        q.append((u[0], b))  # Fill Jug2\n",
    "        q.append((a, u[1]))  # Fill Jug1\n",
    "        q.append((0, u[1]))  # Empty Jug1\n",
    "        q.append((u[0], 0))  # Empty Jug2\n",
    "\n",
    "        # Transfer water between jugs\n",
    "        for ap in range(max(a, b) + 1):\n",
    "            # Pour water from Jug1 to Jug2\n",
    "            c, d = u[0] - ap, u[1] + ap\n",
    "            if c >= 0 and d <= b:\n",
    "                q.append((c, d))\n",
    "\n",
    "            # Pour water from Jug2 to Jug1\n",
    "            c, d = u[0] + ap, u[1] - ap\n",
    "            if c <= a and d >= 0:\n",
    "                q.append((c, d))\n",
    "\n",
    "    if not isSolvable:\n",
    "        print(\"Solution not possible\")\n",
    "\n",
    "if __name__ == '__main__':\n",
    "    Jug1, Jug2, target = 4, 3, 2\n",
    "    print(\"Path from initial state to solution state:\")\n",
    "    Solution(Jug1, Jug2, target)\n"
   ]
  },
  {
   "cell_type": "code",
   "execution_count": null,
   "id": "5fbbc15b-1529-4e15-b460-8eb6ffcd7905",
   "metadata": {},
   "outputs": [],
   "source": []
  }
 ],
 "metadata": {
  "kernelspec": {
   "display_name": "Python [conda env:base] *",
   "language": "python",
   "name": "conda-base-py"
  },
  "language_info": {
   "codemirror_mode": {
    "name": "ipython",
    "version": 3
   },
   "file_extension": ".py",
   "mimetype": "text/x-python",
   "name": "python",
   "nbconvert_exporter": "python",
   "pygments_lexer": "ipython3",
   "version": "3.12.7"
  }
 },
 "nbformat": 4,
 "nbformat_minor": 5
}
