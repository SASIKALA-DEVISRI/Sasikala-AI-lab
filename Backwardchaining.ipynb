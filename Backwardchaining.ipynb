{
 "cells": [
  {
   "cell_type": "code",
   "execution_count": 2,
   "id": "724ae29a-30a0-4519-ae6d-e005e660b7a8",
   "metadata": {},
   "outputs": [
    {
     "name": "stdin",
     "output_type": "stream",
     "text": [
      "Enter the goal:  bird\n"
     ]
    },
    {
     "name": "stdout",
     "output_type": "stream",
     "text": [
      "The goal 'bird' can be satisfied.\n",
      "\n",
      "Supported facts for the goal are:\n",
      "['vertebrate', 'duck']\n",
      "['flying', 'duck']\n",
      "['mammal', 'cat']\n",
      "['bird', 'duck']\n"
     ]
    }
   ],
   "source": [
    "\n",
    "global facts\n",
    "global is_changed\n",
    "\n",
    "is_changed = True\n",
    "facts = [[\"vertebrate\", \"duck\"], [\"flying\", \"duck\"], [\"mammal\", \"cat\"]]\n",
    "\n",
    "def assert_fact(fact):\n",
    "    \"\"\"Adds a new fact if it is not already present.\"\"\"\n",
    "    global facts\n",
    "    global is_changed\n",
    "    if fact not in facts:\n",
    "        facts.append(fact)\n",
    "        is_changed = True\n",
    "\n",
    "def backward_chain(goal):\n",
    "    \"\"\"Performs backward chaining to determine if a goal is satisfied.\"\"\"\n",
    "    global facts\n",
    "    global is_changed\n",
    "\n",
    "    while is_changed:\n",
    "        is_changed = False\n",
    "        if goal in [fact[0] for fact in facts]:\n",
    "            return True\n",
    "\n",
    "        for A1 in facts[:]:  \n",
    "            if goal == \"vertebrate\" and A1[0] == \"mammal\":\n",
    "                assert_fact([\"vertebrate\", A1[1]])\n",
    "            elif goal == \"animal\" and A1[0] == \"vertebrate\":\n",
    "                assert_fact([\"animal\", A1[1]])\n",
    "            elif goal == \"bird\" and A1[0] == \"vertebrate\" and [\"flying\", A1[1]] in facts:\n",
    "                assert_fact([\"bird\", A1[1]])\n",
    "\n",
    "    return goal in [fact[0] for fact in facts]  \n",
    "goal = input(\"Enter the goal: \").strip()\n",
    "\n",
    "if backward_chain(goal):\n",
    "    print(f\"The goal '{goal}' can be satisfied.\")\n",
    "else:\n",
    "    print(f\"The goal '{goal}' cannot be satisfied.\")\n",
    "\n",
    "print(\"\\nSupported facts for the goal are:\")\n",
    "for fact in facts:\n",
    "    print(fact)\n"
   ]
  },
  {
   "cell_type": "code",
   "execution_count": null,
   "id": "89e45ae3-e751-4a7a-a813-2f735c32ba23",
   "metadata": {},
   "outputs": [],
   "source": []
  }
 ],
 "metadata": {
  "kernelspec": {
   "display_name": "Python [conda env:base] *",
   "language": "python",
   "name": "conda-base-py"
  },
  "language_info": {
   "codemirror_mode": {
    "name": "ipython",
    "version": 3
   },
   "file_extension": ".py",
   "mimetype": "text/x-python",
   "name": "python",
   "nbconvert_exporter": "python",
   "pygments_lexer": "ipython3",
   "version": "3.12.7"
  }
 },
 "nbformat": 4,
 "nbformat_minor": 5
}
