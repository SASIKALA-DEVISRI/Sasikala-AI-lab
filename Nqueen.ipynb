{
 "cells": [
  {
   "cell_type": "code",
   "execution_count": 2,
   "id": "30d98db0-35ec-47bd-8ef3-61831ba7c944",
   "metadata": {},
   "outputs": [
    {
     "name": "stdout",
     "output_type": "stream",
     "text": [
      "Enter the number of queens\n"
     ]
    },
    {
     "name": "stdin",
     "output_type": "stream",
     "text": [
      " 8\n"
     ]
    },
    {
     "name": "stdout",
     "output_type": "stream",
     "text": [
      "Solution exists. Placements of queens:\n",
      "[1, 0, 0, 0, 0, 0, 0, 0]\n",
      "[0, 0, 0, 0, 0, 0, 1, 0]\n",
      "[0, 0, 0, 0, 1, 0, 0, 0]\n",
      "[0, 0, 0, 0, 0, 0, 0, 1]\n",
      "[0, 1, 0, 0, 0, 0, 0, 0]\n",
      "[0, 0, 0, 1, 0, 0, 0, 0]\n",
      "[0, 0, 0, 0, 0, 1, 0, 0]\n",
      "[0, 0, 1, 0, 0, 0, 0, 0]\n"
     ]
    }
   ],
   "source": [
    "print(\"Enter the number of queens\")\n",
    "N = int(input())\n",
    "\n",
    "# Create a chessboard NxN matrix with all elements set to 0\n",
    "board = [[0] * N for _ in range(N)]\n",
    "\n",
    "def is_safe(row, col):\n",
    "    # Checking vertically and horizontally\n",
    "    for i in range(N):\n",
    "        if board[row][i] == 1 or board[i][col] == 1:\n",
    "            return False\n",
    "\n",
    "    # Checking diagonals\n",
    "    for i in range(N):\n",
    "        for j in range(N):\n",
    "            if board[i][j] == 1:\n",
    "                if abs(i - row) == abs(j - col):  # Diagonal check\n",
    "                    return False\n",
    "\n",
    "    return True\n",
    "\n",
    "def solve_n_queens(col):\n",
    "    if col >= N:  # If all queens are placed\n",
    "        return True\n",
    "\n",
    "    for row in range(N):\n",
    "        if is_safe(row, col):\n",
    "            board[row][col] = 1\n",
    "            if solve_n_queens(col + 1):  # Recursively place next queen\n",
    "                return True\n",
    "            board[row][col] = 0  # Backtrack if placing queen doesn't lead to solution\n",
    "\n",
    "    return False\n",
    "\n",
    "# Check if a solution exists\n",
    "if solve_n_queens(0):\n",
    "    print(\"Solution exists. Placements of queens:\")\n",
    "    for row in board:\n",
    "        print(row)\n",
    "else:\n",
    "    print(\"No solution exists.\")\n"
   ]
  },
  {
   "cell_type": "code",
   "execution_count": null,
   "id": "f90ea33d-2a0e-43cf-9761-5181feb3a8c2",
   "metadata": {},
   "outputs": [],
   "source": []
  }
 ],
 "metadata": {
  "kernelspec": {
   "display_name": "Python [conda env:base] *",
   "language": "python",
   "name": "conda-base-py"
  },
  "language_info": {
   "codemirror_mode": {
    "name": "ipython",
    "version": 3
   },
   "file_extension": ".py",
   "mimetype": "text/x-python",
   "name": "python",
   "nbconvert_exporter": "python",
   "pygments_lexer": "ipython3",
   "version": "3.12.7"
  }
 },
 "nbformat": 4,
 "nbformat_minor": 5
}
