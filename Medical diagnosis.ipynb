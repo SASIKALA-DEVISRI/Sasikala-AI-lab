{
 "cells": [
  {
   "cell_type": "code",
   "execution_count": 2,
   "id": "2c056f09-eb49-4d5f-a8cf-4f3086e15f6c",
   "metadata": {},
   "outputs": [
    {
     "name": "stdout",
     "output_type": "stream",
     "text": [
      "Enter symptoms one by one (press Enter after each symptom). Type 'done' when finished.\n"
     ]
    },
    {
     "name": "stdin",
     "output_type": "stream",
     "text": [
      "Symptom:  joint pain\n",
      "Symptom:  fatigue\n",
      "Symptom:  done\n"
     ]
    },
    {
     "name": "stdout",
     "output_type": "stream",
     "text": [
      "\n",
      "Diagnosis:\n",
      "These symptoms may be related to arthritis. Consider gentle exercises, hot/cold therapy, and over-the-counter pain relievers. Consult with a rheumatologist for evaluation.\n"
     ]
    }
   ],
   "source": [
    "class SymptomChecker:\n",
    "    def __init__(self):\n",
    "        self.symptoms = set()\n",
    "\n",
    "    def add_symptom(self, symptom):\n",
    "        self.symptoms.add(symptom)\n",
    "\n",
    "    def diagnose(self):\n",
    "        if \"fever\" in self.symptoms and \"cough\" in self.symptoms:\n",
    "            return \"You may have a respiratory infection. Common treatments include rest and staying hydrated. If symptoms persist, consult a healthcare professional.\"\n",
    "\n",
    "        elif \"headache\" in self.symptoms and \"nausea\" in self.symptoms:\n",
    "            return \"You might be experiencing migraines. Consider managing stress, maintaining a regular sleep schedule, and keeping a headache diary. Consult a doctor for further evaluation.\"\n",
    "\n",
    "        elif \"chest pain\" in self.symptoms and \"shortness of breath\" in self.symptoms:\n",
    "            return \"You could be at risk of a heart-related issue. Seek immediate medical attention. Avoid strenuous activities and consult a cardiologist for further evaluation.\"\n",
    "\n",
    "        elif \"abdominal pain\" in self.symptoms and \"vomiting\" in self.symptoms:\n",
    "            return \"These symptoms may indicate a gastrointestinal problem. Avoid spicy and fatty foods, and stay hydrated. If symptoms persist, consult a gastroenterologist for proper diagnosis.\"\n",
    "\n",
    "        elif \"joint pain\" in self.symptoms and \"fatigue\" in self.symptoms:\n",
    "            return \"These symptoms may be related to arthritis. Consider gentle exercises, hot/cold therapy, and over-the-counter pain relievers. Consult with a rheumatologist for evaluation.\"\n",
    "\n",
    "        elif \"skin rash\" in self.symptoms and \"itching\" in self.symptoms:\n",
    "            return \"These symptoms may be indicative of an allergic reaction or skin condition. Avoid known allergens and use over-the-counter creams for relief. Consult a dermatologist for further evaluation.\"\n",
    "\n",
    "        elif \"frequent urination\" in self.symptoms and \"thirst\" in self.symptoms:\n",
    "            return \"You may have symptoms of diabetes. Monitor your blood sugar levels, maintain a healthy diet, and stay hydrated. Consult a healthcare professional for a blood sugar test and further guidance.\"\n",
    "\n",
    "        elif \"confusion\" in self.symptoms and \"memory loss\" in self.symptoms:\n",
    "            return \"These symptoms could be signs of neurological issues. Ensure a healthy diet, exercise regularly, and get enough sleep. Consult a neurologist for further evaluation and advice.\"\n",
    "\n",
    "        elif \"muscle weakness\" in self.symptoms and \"fatigue\" in self.symptoms:\n",
    "            return \"Muscle weakness and fatigue may be related to various conditions, including autoimmune disorders. Get adequate rest, maintain a balanced diet, and consult a doctor for proper diagnosis and treatment.\"\n",
    "\n",
    "        else:\n",
    "            return \"Not enough information for diagnosis. Please consult a healthcare professional for a thorough evaluation.\"\n",
    "\n",
    "\n",
    "if __name__ == \"__main__\":\n",
    "    expert_system = SymptomChecker()\n",
    "\n",
    "    print(\"Enter symptoms one by one (press Enter after each symptom). Type 'done' when finished.\")\n",
    "    \n",
    "    while True:\n",
    "        symptom = input(\"Symptom: \").strip().lower()\n",
    "        if symptom == \"done\":\n",
    "            break\n",
    "        elif symptom:\n",
    "            expert_system.add_symptom(symptom)\n",
    "\n",
    "    result = expert_system.diagnose()\n",
    "\n",
    "    print(\"\\nDiagnosis:\")\n",
    "    print(result)\n"
   ]
  },
  {
   "cell_type": "code",
   "execution_count": null,
   "id": "854b7479-2b5d-4410-aefb-bb2cf8c5df0d",
   "metadata": {},
   "outputs": [],
   "source": []
  }
 ],
 "metadata": {
  "kernelspec": {
   "display_name": "Python [conda env:base] *",
   "language": "python",
   "name": "conda-base-py"
  },
  "language_info": {
   "codemirror_mode": {
    "name": "ipython",
    "version": 3
   },
   "file_extension": ".py",
   "mimetype": "text/x-python",
   "name": "python",
   "nbconvert_exporter": "python",
   "pygments_lexer": "ipython3",
   "version": "3.12.7"
  }
 },
 "nbformat": 4,
 "nbformat_minor": 5
}
