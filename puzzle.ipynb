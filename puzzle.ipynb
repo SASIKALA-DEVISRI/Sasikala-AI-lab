{
 "cells": [
  {
   "cell_type": "code",
   "execution_count": 2,
   "id": "8fc72983-31dc-4cfe-9ead-980646159164",
   "metadata": {},
   "outputs": [
    {
     "name": "stdout",
     "output_type": "stream",
     "text": [
      "4\n"
     ]
    }
   ],
   "source": [
    "class Solution:\n",
    "    def solve(self, board):\n",
    "        board_dict = {}\n",
    "        flatten = []\n",
    "        \n",
    "        # Flatten the 2D list into a 1D tuple\n",
    "        for row in board:\n",
    "            flatten += row\n",
    "        flatten = tuple(flatten)\n",
    "\n",
    "        board_dict[flatten] = 0\n",
    "\n",
    "        # If board is already solved\n",
    "        if flatten == (0, 1, 2, 3, 4, 5, 6, 7, 8):\n",
    "            return 0\n",
    "\n",
    "        return self.get_paths(board_dict)\n",
    "\n",
    "    def get_paths(self, board_dict):\n",
    "        cnt = 0\n",
    "        while True:\n",
    "            current_nodes = [x for x in board_dict if board_dict[x] == cnt]\n",
    "            if not current_nodes:\n",
    "                return -1  # No solution found\n",
    "\n",
    "            for node in current_nodes:\n",
    "                next_moves = self.find_next(node)\n",
    "                for move in next_moves:\n",
    "                    if move not in board_dict:\n",
    "                        board_dict[move] = cnt + 1\n",
    "                        if move == (0, 1, 2, 3, 4, 5, 6, 7, 8):\n",
    "                            return cnt + 1\n",
    "            cnt += 1\n",
    "\n",
    "    def find_next(self, node):\n",
    "        moves = {\n",
    "            0: [1, 3], 1: [0, 2, 4], 2: [1, 5],\n",
    "            3: [0, 4, 6], 4: [1, 3, 5, 7], 5: [2, 4, 8],\n",
    "            6: [3, 7], 7: [4, 6, 8], 8: [5, 7]\n",
    "        }\n",
    "\n",
    "        results = []\n",
    "        pos_0 = node.index(0)\n",
    "        \n",
    "        for move in moves[pos_0]:\n",
    "            new_node = list(node)\n",
    "            new_node[move], new_node[pos_0] = new_node[pos_0], new_node[move]\n",
    "            results.append(tuple(new_node))\n",
    "        \n",
    "        return results\n",
    "\n",
    "# Example usage\n",
    "ob = Solution()\n",
    "matrix = [\n",
    "    [3, 1, 2],\n",
    "    [4, 7, 5],\n",
    "    [6, 8, 0]\n",
    "]\n",
    "print(ob.solve(matrix))\n"
   ]
  },
  {
   "cell_type": "code",
   "execution_count": null,
   "id": "f6eb8015-e491-4545-b11e-371de9fa1cdb",
   "metadata": {},
   "outputs": [],
   "source": []
  }
 ],
 "metadata": {
  "kernelspec": {
   "display_name": "Python [conda env:base] *",
   "language": "python",
   "name": "conda-base-py"
  },
  "language_info": {
   "codemirror_mode": {
    "name": "ipython",
    "version": 3
   },
   "file_extension": ".py",
   "mimetype": "text/x-python",
   "name": "python",
   "nbconvert_exporter": "python",
   "pygments_lexer": "ipython3",
   "version": "3.12.7"
  }
 },
 "nbformat": 4,
 "nbformat_minor": 5
}
