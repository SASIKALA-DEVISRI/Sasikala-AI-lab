{
 "cells": [
  {
   "cell_type": "code",
   "execution_count": 2,
   "id": "3486f07c-c4c0-4e02-a88c-8f1b89dba688",
   "metadata": {},
   "outputs": [
    {
     "name": "stdout",
     "output_type": "stream",
     "text": [
      "Inferred Facts are:\n",
      "['vertebrate', 'duck']\n",
      "['flying', 'duck']\n",
      "['mammal', 'cat']\n",
      "['animal', 'duck']\n",
      "['bird', 'duck']\n",
      "['vertebrate', 'cat']\n",
      "['animal', 'cat']\n"
     ]
    }
   ],
   "source": [
    "\n",
    "global facts\n",
    "global is_changed\n",
    "\n",
    "is_changed = True\n",
    "facts = [[\"vertebrate\", \"duck\"], [\"flying\", \"duck\"], [\"mammal\", \"cat\"]]\n",
    "\n",
    "def assert_fact(fact):\n",
    "    global facts\n",
    "    global is_changed\n",
    "    if fact not in facts:\n",
    "        facts.append(fact)\n",
    "        is_changed = True\n",
    "\n",
    "def infer_facts():\n",
    "    global is_changed\n",
    "    while is_changed:\n",
    "        is_changed = False\n",
    "        for A1 in facts[:]: \n",
    "            if A1[0] == \"mammal\":\n",
    "                assert_fact([\"vertebrate\", A1[1]])\n",
    "            if A1[0] == \"vertebrate\":\n",
    "                assert_fact([\"animal\", A1[1]])\n",
    "            if A1[0] == \"vertebrate\" and [\"flying\", A1[1]] in facts:\n",
    "                assert_fact([\"bird\", A1[1]])\n",
    "\n",
    "infer_facts()\n",
    "\n",
    "print(\"Inferred Facts are:\")\n",
    "for fact in facts:\n",
    "    print(fact)\n"
   ]
  },
  {
   "cell_type": "code",
   "execution_count": null,
   "id": "6cceb425-71b6-405a-9737-2715a1839701",
   "metadata": {},
   "outputs": [],
   "source": []
  }
 ],
 "metadata": {
  "kernelspec": {
   "display_name": "Python [conda env:base] *",
   "language": "python",
   "name": "conda-base-py"
  },
  "language_info": {
   "codemirror_mode": {
    "name": "ipython",
    "version": 3
   },
   "file_extension": ".py",
   "mimetype": "text/x-python",
   "name": "python",
   "nbconvert_exporter": "python",
   "pygments_lexer": "ipython3",
   "version": "3.12.7"
  }
 },
 "nbformat": 4,
 "nbformat_minor": 5
}
